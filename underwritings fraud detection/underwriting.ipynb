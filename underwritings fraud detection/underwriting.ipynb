{
 "cells": [
  {
   "cell_type": "markdown",
   "metadata": {},
   "source": [
    "import libraries"
   ]
  },
  {
   "cell_type": "code",
   "execution_count": null,
   "metadata": {},
   "outputs": [],
   "source": [
    "import json\n",
    "import numpy as np\n",
    "import pandas as pd\n",
    "import numpy as np\n",
    "import xgboost as xgb\n",
    "import matplotlib.pyplot as plt"
   ]
  },
  {
   "cell_type": "markdown",
   "metadata": {},
   "source": [
    "\n",
    "those are functions to combine and seperate the test and train dataset"
   ]
  },
  {
   "cell_type": "code",
   "execution_count": 70,
   "metadata": {
    "id": "eOvR7qGvlzAR"
   },
   "outputs": [],
   "source": [
    "def combine_datasets(train_data, test_data):\n",
    "    # Combine the training and test datasets\n",
    "    combined_df = pd.concat([train_data, test_data], ignore_index=True)\n",
    "\n",
    "    return combined_df\n",
    "\n",
    "def separate_datasets(combined_df, train_rows):\n",
    "    # Separate the combined DataFrame into training and test datasets\n",
    "    train_combined = combined_df.iloc[:train_rows, :]\n",
    "    test_combined = combined_df.iloc[train_rows:, :]\n",
    "\n",
    "    return train_combined, test_combined"
   ]
  },
  {
   "cell_type": "markdown",
   "metadata": {},
   "source": [
    "# 1.   data collection"
   ]
  },
  {
   "cell_type": "code",
   "execution_count": 71,
   "metadata": {
    "id": "c6SjUZ8v5tXT"
   },
   "outputs": [],
   "source": [
    "import pandas as pd\n",
    "\n",
    "# Spécifiez le chemin vers votre fichier JSON\n",
    "\n",
    "# Chargez les données JSON dans un DataFrame pandas\n",
    "df1 = pd.read_json('data/train/underwritings.json')\n",
    "\n",
    "# Écrivez le DataFrame dans un fichier CSV\n",
    "df1.to_csv(\"data/train/underwritings.csv\", index=False)\n",
    "\n",
    "df1=pd.read_csv(\"data/train/underwritings.csv\")"
   ]
  },
  {
   "cell_type": "code",
   "execution_count": 72,
   "metadata": {
    "id": "GGji-X_lkpK4"
   },
   "outputs": [],
   "source": [
    "df_test=pd.read_csv(\"data/submission/test.csv\")"
   ]
  },
  {
   "cell_type": "code",
   "execution_count": 73,
   "metadata": {
    "colab": {
     "base_uri": "https://localhost:8080/"
    },
    "id": "XwsMOXSNuMBe",
    "outputId": "24182e92-6bd3-4a62-922f-15e41280bc52"
   },
   "outputs": [
    {
     "data": {
      "text/plain": [
       "((48752, 54), (1000, 53))"
      ]
     },
     "execution_count": 73,
     "metadata": {},
     "output_type": "execute_result"
    }
   ],
   "source": [
    "df1.shape, df_test.shape"
   ]
  },
  {
   "cell_type": "code",
   "execution_count": 74,
   "metadata": {
    "id": "nq7k7auPlmUw"
   },
   "outputs": [],
   "source": [
    "df2 = df1.drop(columns='clearfraudscore')"
   ]
  },
  {
   "cell_type": "code",
   "execution_count": 75,
   "metadata": {
    "colab": {
     "base_uri": "https://localhost:8080/"
    },
    "id": "7MGUG6CHnE1a",
    "outputId": "18b18790-e264-4cad-e0f0-28b9287bb9a3"
   },
   "outputs": [
    {
     "data": {
      "text/plain": [
       "((48752, 53), (1000, 53))"
      ]
     },
     "execution_count": 75,
     "metadata": {},
     "output_type": "execute_result"
    }
   ],
   "source": [
    "df2.shape, df_test.shape"
   ]
  },
  {
   "cell_type": "code",
   "execution_count": 76,
   "metadata": {
    "colab": {
     "base_uri": "https://localhost:8080/"
    },
    "id": "tNvv5zD2m4cF",
    "outputId": "fde2a2dd-f915-49a4-d3e5-1906f47a2e3d"
   },
   "outputs": [
    {
     "data": {
      "text/plain": [
       "(49752, 53)"
      ]
     },
     "execution_count": 76,
     "metadata": {},
     "output_type": "execute_result"
    }
   ],
   "source": [
    "df = combine_datasets(df2, df_test)\n",
    "df.shape"
   ]
  },
  {
   "cell_type": "code",
   "execution_count": 77,
   "metadata": {
    "colab": {
     "base_uri": "https://localhost:8080/"
    },
    "id": "viwV1VMunxVP",
    "outputId": "ed75b462-b1c1-4b40-ccb9-70c310ee864c"
   },
   "outputs": [
    {
     "name": "stdout",
     "output_type": "stream",
     "text": [
      "<class 'pandas.core.frame.DataFrame'>\n",
      "RangeIndex: 49752 entries, 0 to 49751\n",
      "Data columns (total 53 columns):\n",
      " #   Column                                                                                               Non-Null Count  Dtype  \n",
      "---  ------                                                                                               --------------  -----  \n",
      " 0   .underwritingdataclarity.clearfraud.clearfraudinquiry.thirtydaysago                                  49750 non-null  float64\n",
      " 1   .underwritingdataclarity.clearfraud.clearfraudinquiry.twentyfourhoursago                             49750 non-null  float64\n",
      " 2   .underwritingdataclarity.clearfraud.clearfraudinquiry.oneminuteago                                   49750 non-null  float64\n",
      " 3   .underwritingdataclarity.clearfraud.clearfraudinquiry.onehourago                                     49750 non-null  float64\n",
      " 4   .underwritingdataclarity.clearfraud.clearfraudinquiry.ninetydaysago                                  49750 non-null  float64\n",
      " 5   .underwritingdataclarity.clearfraud.clearfraudinquiry.sevendaysago                                   49750 non-null  float64\n",
      " 6   .underwritingdataclarity.clearfraud.clearfraudinquiry.tenminutesago                                  49750 non-null  float64\n",
      " 7   .underwritingdataclarity.clearfraud.clearfraudinquiry.fifteendaysago                                 49750 non-null  float64\n",
      " 8   .underwritingdataclarity.clearfraud.clearfraudinquiry.threesixtyfivedaysago                          49750 non-null  float64\n",
      " 9   .underwritingdataclarity.clearfraud.clearfraudindicator.inquiryonfilecurrentaddressconflict          49712 non-null  float64\n",
      " 10  .underwritingdataclarity.clearfraud.clearfraudindicator.totalnumberoffraudindicators                 49735 non-null  float64\n",
      " 11  .underwritingdataclarity.clearfraud.clearfraudindicator.telephonenumberinconsistentwithaddress       49712 non-null  float64\n",
      " 12  .underwritingdataclarity.clearfraud.clearfraudindicator.inquiryageyoungerthanssnissuedate            49712 non-null  float64\n",
      " 13  .underwritingdataclarity.clearfraud.clearfraudindicator.onfileaddresscautious                        49712 non-null  float64\n",
      " 14  .underwritingdataclarity.clearfraud.clearfraudindicator.inquiryaddressnonresidential                 49712 non-null  float64\n",
      " 15  .underwritingdataclarity.clearfraud.clearfraudindicator.onfileaddresshighrisk                        49712 non-null  float64\n",
      " 16  .underwritingdataclarity.clearfraud.clearfraudindicator.ssnreportedmorefrequentlyforanother          49712 non-null  float64\n",
      " 17  .underwritingdataclarity.clearfraud.clearfraudindicator.currentaddressreportedbytradeopenlt90days    49712 non-null  float64\n",
      " 18  .underwritingdataclarity.clearfraud.clearfraudindicator.inputssninvalid                              49712 non-null  float64\n",
      " 19  .underwritingdataclarity.clearfraud.clearfraudindicator.inputssnissuedatecannotbeverified            49712 non-null  float64\n",
      " 20  .underwritingdataclarity.clearfraud.clearfraudindicator.inquiryaddresscautious                       49712 non-null  float64\n",
      " 21  .underwritingdataclarity.clearfraud.clearfraudindicator.morethan3inquiriesinthelast30days            49712 non-null  float64\n",
      " 22  .underwritingdataclarity.clearfraud.clearfraudindicator.onfileaddressnonresidential                  49712 non-null  float64\n",
      " 23  .underwritingdataclarity.clearfraud.clearfraudindicator.creditestablishedpriortossnissuedate         49712 non-null  float64\n",
      " 24  .underwritingdataclarity.clearfraud.clearfraudindicator.driverlicenseformatinvalid                   44703 non-null  float64\n",
      " 25  .underwritingdataclarity.clearfraud.clearfraudindicator.inputssnrecordedasdeceased                   49712 non-null  float64\n",
      " 26  .underwritingdataclarity.clearfraud.clearfraudindicator.inquiryaddresshighrisk                       49712 non-null  float64\n",
      " 27  .underwritingdataclarity.clearfraud.clearfraudindicator.inquirycurrentaddressnotonfile               49712 non-null  float64\n",
      " 28  .underwritingdataclarity.clearfraud.clearfraudindicator.bestonfilessnissuedatecannotbeverified       49712 non-null  float64\n",
      " 29  .underwritingdataclarity.clearfraud.clearfraudindicator.highprobabilityssnbelongstoanother           49712 non-null  float64\n",
      " 30  .underwritingdataclarity.clearfraud.clearfraudindicator.maxnumberofssnswithanybankaccount            49735 non-null  float64\n",
      " 31  .underwritingdataclarity.clearfraud.clearfraudindicator.bestonfilessnrecordedasdeceased              49712 non-null  float64\n",
      " 32  .underwritingdataclarity.clearfraud.clearfraudindicator.currentaddressreportedbynewtradeonly         49712 non-null  float64\n",
      " 33  .underwritingdataclarity.clearfraud.clearfraudindicator.creditestablishedbeforeage18                 49712 non-null  float64\n",
      " 34  .underwritingdataclarity.clearfraud.clearfraudindicator.telephonenumberinconsistentwithstate         49071 non-null  float64\n",
      " 35  .underwritingdataclarity.clearfraud.clearfraudindicator.driverlicenseinconsistentwithonfile          10055 non-null  float64\n",
      " 36  .underwritingdataclarity.clearfraud.clearfraudindicator.workphonepreviouslylistedascellphone         21416 non-null  float64\n",
      " 37  .underwritingdataclarity.clearfraud.clearfraudindicator.workphonepreviouslylistedashomephone         21416 non-null  float64\n",
      " 38  .underwritingdataclarity.clearfraud.clearfraudidentityverification.ssnnamematch                      49720 non-null  object \n",
      " 39  .underwritingdataclarity.clearfraud.clearfraudidentityverification.nameaddressmatch                  49720 non-null  object \n",
      " 40  .underwritingdataclarity.clearfraud.clearfraudidentityverification.phonematchtype                    48799 non-null  object \n",
      " 41  .underwritingdataclarity.clearfraud.clearfraudidentityverification.ssnnamereasoncodedescription      2669 non-null   object \n",
      " 42  .underwritingdataclarity.clearfraud.clearfraudidentityverification.phonematchresult                  49712 non-null  object \n",
      " 43  .underwritingdataclarity.clearfraud.clearfraudidentityverification.nameaddressreasoncodedescription  5627 non-null   object \n",
      " 44  .underwritingdataclarity.clearfraud.clearfraudidentityverification.phonematchtypedescription         48799 non-null  object \n",
      " 45  .underwritingdataclarity.clearfraud.clearfraudidentityverification.overallmatchresult                49720 non-null  object \n",
      " 46  .underwritingdataclarity.clearfraud.clearfraudidentityverification.phonetype                         1515 non-null   object \n",
      " 47  .underwritingdataclarity.clearfraud.clearfraudidentityverification.ssndobreasoncode                  9029 non-null   object \n",
      " 48  .underwritingdataclarity.clearfraud.clearfraudidentityverification.ssnnamereasoncode                 2669 non-null   object \n",
      " 49  .underwritingdataclarity.clearfraud.clearfraudidentityverification.nameaddressreasoncode             5627 non-null   object \n",
      " 50  .underwritingdataclarity.clearfraud.clearfraudidentityverification.ssndobmatch                       49720 non-null  object \n",
      " 51  .underwritingdataclarity.clearfraud.clearfraudidentityverification.overallmatchreasoncode            49720 non-null  float64\n",
      " 52  underwritingid                                                                                       49752 non-null  object \n",
      "dtypes: float64(39), object(14)\n",
      "memory usage: 20.1+ MB\n"
     ]
    }
   ],
   "source": [
    "df.info()"
   ]
  },
  {
   "cell_type": "markdown",
   "metadata": {},
   "source": [
    "# 2.   Analyse Data"
   ]
  },
  {
   "cell_type": "code",
   "execution_count": 78,
   "metadata": {
    "colab": {
     "base_uri": "https://localhost:8080/"
    },
    "id": "K9-k2VlZn9Bu",
    "outputId": "597983a8-c1a8-4bed-e95a-e98ca0fc06eb"
   },
   "outputs": [
    {
     "data": {
      "text/plain": [
       ".underwritingdataclarity.clearfraud.clearfraudinquiry.thirtydaysago                                        2\n",
       ".underwritingdataclarity.clearfraud.clearfraudinquiry.twentyfourhoursago                                   2\n",
       ".underwritingdataclarity.clearfraud.clearfraudinquiry.oneminuteago                                         2\n",
       ".underwritingdataclarity.clearfraud.clearfraudinquiry.onehourago                                           2\n",
       ".underwritingdataclarity.clearfraud.clearfraudinquiry.ninetydaysago                                        2\n",
       ".underwritingdataclarity.clearfraud.clearfraudinquiry.sevendaysago                                         2\n",
       ".underwritingdataclarity.clearfraud.clearfraudinquiry.tenminutesago                                        2\n",
       ".underwritingdataclarity.clearfraud.clearfraudinquiry.fifteendaysago                                       2\n",
       ".underwritingdataclarity.clearfraud.clearfraudinquiry.threesixtyfivedaysago                                2\n",
       ".underwritingdataclarity.clearfraud.clearfraudindicator.inquiryonfilecurrentaddressconflict               40\n",
       ".underwritingdataclarity.clearfraud.clearfraudindicator.totalnumberoffraudindicators                      17\n",
       ".underwritingdataclarity.clearfraud.clearfraudindicator.telephonenumberinconsistentwithaddress            40\n",
       ".underwritingdataclarity.clearfraud.clearfraudindicator.inquiryageyoungerthanssnissuedate                 40\n",
       ".underwritingdataclarity.clearfraud.clearfraudindicator.onfileaddresscautious                             40\n",
       ".underwritingdataclarity.clearfraud.clearfraudindicator.inquiryaddressnonresidential                      40\n",
       ".underwritingdataclarity.clearfraud.clearfraudindicator.onfileaddresshighrisk                             40\n",
       ".underwritingdataclarity.clearfraud.clearfraudindicator.ssnreportedmorefrequentlyforanother               40\n",
       ".underwritingdataclarity.clearfraud.clearfraudindicator.currentaddressreportedbytradeopenlt90days         40\n",
       ".underwritingdataclarity.clearfraud.clearfraudindicator.inputssninvalid                                   40\n",
       ".underwritingdataclarity.clearfraud.clearfraudindicator.inputssnissuedatecannotbeverified                 40\n",
       ".underwritingdataclarity.clearfraud.clearfraudindicator.inquiryaddresscautious                            40\n",
       ".underwritingdataclarity.clearfraud.clearfraudindicator.morethan3inquiriesinthelast30days                 40\n",
       ".underwritingdataclarity.clearfraud.clearfraudindicator.onfileaddressnonresidential                       40\n",
       ".underwritingdataclarity.clearfraud.clearfraudindicator.creditestablishedpriortossnissuedate              40\n",
       ".underwritingdataclarity.clearfraud.clearfraudindicator.driverlicenseformatinvalid                      5049\n",
       ".underwritingdataclarity.clearfraud.clearfraudindicator.inputssnrecordedasdeceased                        40\n",
       ".underwritingdataclarity.clearfraud.clearfraudindicator.inquiryaddresshighrisk                            40\n",
       ".underwritingdataclarity.clearfraud.clearfraudindicator.inquirycurrentaddressnotonfile                    40\n",
       ".underwritingdataclarity.clearfraud.clearfraudindicator.bestonfilessnissuedatecannotbeverified            40\n",
       ".underwritingdataclarity.clearfraud.clearfraudindicator.highprobabilityssnbelongstoanother                40\n",
       ".underwritingdataclarity.clearfraud.clearfraudindicator.maxnumberofssnswithanybankaccount                 17\n",
       ".underwritingdataclarity.clearfraud.clearfraudindicator.bestonfilessnrecordedasdeceased                   40\n",
       ".underwritingdataclarity.clearfraud.clearfraudindicator.currentaddressreportedbynewtradeonly              40\n",
       ".underwritingdataclarity.clearfraud.clearfraudindicator.creditestablishedbeforeage18                      40\n",
       ".underwritingdataclarity.clearfraud.clearfraudindicator.telephonenumberinconsistentwithstate             681\n",
       ".underwritingdataclarity.clearfraud.clearfraudindicator.driverlicenseinconsistentwithonfile            39697\n",
       ".underwritingdataclarity.clearfraud.clearfraudindicator.workphonepreviouslylistedascellphone           28336\n",
       ".underwritingdataclarity.clearfraud.clearfraudindicator.workphonepreviouslylistedashomephone           28336\n",
       ".underwritingdataclarity.clearfraud.clearfraudidentityverification.ssnnamematch                           32\n",
       ".underwritingdataclarity.clearfraud.clearfraudidentityverification.nameaddressmatch                       32\n",
       ".underwritingdataclarity.clearfraud.clearfraudidentityverification.phonematchtype                        953\n",
       ".underwritingdataclarity.clearfraud.clearfraudidentityverification.ssnnamereasoncodedescription        47083\n",
       ".underwritingdataclarity.clearfraud.clearfraudidentityverification.phonematchresult                       40\n",
       ".underwritingdataclarity.clearfraud.clearfraudidentityverification.nameaddressreasoncodedescription    44125\n",
       ".underwritingdataclarity.clearfraud.clearfraudidentityverification.phonematchtypedescription             953\n",
       ".underwritingdataclarity.clearfraud.clearfraudidentityverification.overallmatchresult                     32\n",
       ".underwritingdataclarity.clearfraud.clearfraudidentityverification.phonetype                           48237\n",
       ".underwritingdataclarity.clearfraud.clearfraudidentityverification.ssndobreasoncode                    40723\n",
       ".underwritingdataclarity.clearfraud.clearfraudidentityverification.ssnnamereasoncode                   47083\n",
       ".underwritingdataclarity.clearfraud.clearfraudidentityverification.nameaddressreasoncode               44125\n",
       ".underwritingdataclarity.clearfraud.clearfraudidentityverification.ssndobmatch                            32\n",
       ".underwritingdataclarity.clearfraud.clearfraudidentityverification.overallmatchreasoncode                 32\n",
       "underwritingid                                                                                             0\n",
       "dtype: int64"
      ]
     },
     "execution_count": 78,
     "metadata": {},
     "output_type": "execute_result"
    }
   ],
   "source": [
    "df.isna().sum()"
   ]
  },
  {
   "cell_type": "code",
   "execution_count": 79,
   "metadata": {
    "id": "h8E7NJNfsMS0"
   },
   "outputs": [],
   "source": [
    "columns_to_drop = [\n",
    "    '.underwritingdataclarity.clearfraud.clearfraudidentityverification.nameaddressreasoncode',\n",
    "    '.underwritingdataclarity.clearfraud.clearfraudidentityverification.ssnnamereasoncode',\n",
    "    '.underwritingdataclarity.clearfraud.clearfraudidentityverification.ssndobreasoncode',\n",
    "    '.underwritingdataclarity.clearfraud.clearfraudidentityverification.phonetype',\n",
    "    '.underwritingdataclarity.clearfraud.clearfraudidentityverification.nameaddressreasoncodedescription',\n",
    "    '.underwritingdataclarity.clearfraud.clearfraudidentityverification.ssnnamereasoncodedescription',\n",
    "    '.underwritingdataclarity.clearfraud.clearfraudindicator.driverlicenseinconsistentwithonfile',\n",
    "    '.underwritingdataclarity.clearfraud.clearfraudindicator.workphonepreviouslylistedascellphone',\n",
    "    '.underwritingdataclarity.clearfraud.clearfraudindicator.workphonepreviouslylistedashomephone',\n",
    "    'underwritingid'\n",
    "]\n",
    "\n",
    "# Supprimer les colonnes spécifiées\n",
    "df = df.drop(columns=columns_to_drop, axis=1)"
   ]
  },
  {
   "cell_type": "code",
   "execution_count": 80,
   "metadata": {
    "colab": {
     "base_uri": "https://localhost:8080/"
    },
    "id": "9vDYxtg6seBv",
    "outputId": "67be0157-3607-4e43-a919-a05d7d15f08d"
   },
   "outputs": [
    {
     "data": {
      "text/plain": [
       ".underwritingdataclarity.clearfraud.clearfraudinquiry.thirtydaysago                                     2\n",
       ".underwritingdataclarity.clearfraud.clearfraudinquiry.twentyfourhoursago                                2\n",
       ".underwritingdataclarity.clearfraud.clearfraudinquiry.oneminuteago                                      2\n",
       ".underwritingdataclarity.clearfraud.clearfraudinquiry.onehourago                                        2\n",
       ".underwritingdataclarity.clearfraud.clearfraudinquiry.ninetydaysago                                     2\n",
       ".underwritingdataclarity.clearfraud.clearfraudinquiry.sevendaysago                                      2\n",
       ".underwritingdataclarity.clearfraud.clearfraudinquiry.tenminutesago                                     2\n",
       ".underwritingdataclarity.clearfraud.clearfraudinquiry.fifteendaysago                                    2\n",
       ".underwritingdataclarity.clearfraud.clearfraudinquiry.threesixtyfivedaysago                             2\n",
       ".underwritingdataclarity.clearfraud.clearfraudindicator.inquiryonfilecurrentaddressconflict            40\n",
       ".underwritingdataclarity.clearfraud.clearfraudindicator.totalnumberoffraudindicators                   17\n",
       ".underwritingdataclarity.clearfraud.clearfraudindicator.telephonenumberinconsistentwithaddress         40\n",
       ".underwritingdataclarity.clearfraud.clearfraudindicator.inquiryageyoungerthanssnissuedate              40\n",
       ".underwritingdataclarity.clearfraud.clearfraudindicator.onfileaddresscautious                          40\n",
       ".underwritingdataclarity.clearfraud.clearfraudindicator.inquiryaddressnonresidential                   40\n",
       ".underwritingdataclarity.clearfraud.clearfraudindicator.onfileaddresshighrisk                          40\n",
       ".underwritingdataclarity.clearfraud.clearfraudindicator.ssnreportedmorefrequentlyforanother            40\n",
       ".underwritingdataclarity.clearfraud.clearfraudindicator.currentaddressreportedbytradeopenlt90days      40\n",
       ".underwritingdataclarity.clearfraud.clearfraudindicator.inputssninvalid                                40\n",
       ".underwritingdataclarity.clearfraud.clearfraudindicator.inputssnissuedatecannotbeverified              40\n",
       ".underwritingdataclarity.clearfraud.clearfraudindicator.inquiryaddresscautious                         40\n",
       ".underwritingdataclarity.clearfraud.clearfraudindicator.morethan3inquiriesinthelast30days              40\n",
       ".underwritingdataclarity.clearfraud.clearfraudindicator.onfileaddressnonresidential                    40\n",
       ".underwritingdataclarity.clearfraud.clearfraudindicator.creditestablishedpriortossnissuedate           40\n",
       ".underwritingdataclarity.clearfraud.clearfraudindicator.driverlicenseformatinvalid                   5049\n",
       ".underwritingdataclarity.clearfraud.clearfraudindicator.inputssnrecordedasdeceased                     40\n",
       ".underwritingdataclarity.clearfraud.clearfraudindicator.inquiryaddresshighrisk                         40\n",
       ".underwritingdataclarity.clearfraud.clearfraudindicator.inquirycurrentaddressnotonfile                 40\n",
       ".underwritingdataclarity.clearfraud.clearfraudindicator.bestonfilessnissuedatecannotbeverified         40\n",
       ".underwritingdataclarity.clearfraud.clearfraudindicator.highprobabilityssnbelongstoanother             40\n",
       ".underwritingdataclarity.clearfraud.clearfraudindicator.maxnumberofssnswithanybankaccount              17\n",
       ".underwritingdataclarity.clearfraud.clearfraudindicator.bestonfilessnrecordedasdeceased                40\n",
       ".underwritingdataclarity.clearfraud.clearfraudindicator.currentaddressreportedbynewtradeonly           40\n",
       ".underwritingdataclarity.clearfraud.clearfraudindicator.creditestablishedbeforeage18                   40\n",
       ".underwritingdataclarity.clearfraud.clearfraudindicator.telephonenumberinconsistentwithstate          681\n",
       ".underwritingdataclarity.clearfraud.clearfraudidentityverification.ssnnamematch                        32\n",
       ".underwritingdataclarity.clearfraud.clearfraudidentityverification.nameaddressmatch                    32\n",
       ".underwritingdataclarity.clearfraud.clearfraudidentityverification.phonematchtype                     953\n",
       ".underwritingdataclarity.clearfraud.clearfraudidentityverification.phonematchresult                    40\n",
       ".underwritingdataclarity.clearfraud.clearfraudidentityverification.phonematchtypedescription          953\n",
       ".underwritingdataclarity.clearfraud.clearfraudidentityverification.overallmatchresult                  32\n",
       ".underwritingdataclarity.clearfraud.clearfraudidentityverification.ssndobmatch                         32\n",
       ".underwritingdataclarity.clearfraud.clearfraudidentityverification.overallmatchreasoncode              32\n",
       "dtype: int64"
      ]
     },
     "execution_count": 80,
     "metadata": {},
     "output_type": "execute_result"
    }
   ],
   "source": [
    "df.isna().sum()"
   ]
  },
  {
   "cell_type": "code",
   "execution_count": 81,
   "metadata": {
    "id": "bomcEQ2FnZLW"
   },
   "outputs": [],
   "source": [
    "# Liste des colonnes à encoder en one-hot\n",
    "columns_to_encode = [\n",
    "    \".underwritingdataclarity.clearfraud.clearfraudidentityverification.ssnnamematch\",\n",
    "    \".underwritingdataclarity.clearfraud.clearfraudidentityverification.phonematchtype\",\n",
    "    \".underwritingdataclarity.clearfraud.clearfraudidentityverification.phonematchresult\",\n",
    "    \".underwritingdataclarity.clearfraud.clearfraudidentityverification.phonematchtypedescription\",\n",
    "    \".underwritingdataclarity.clearfraud.clearfraudidentityverification.overallmatchresult\",\n",
    "    \".underwritingdataclarity.clearfraud.clearfraudidentityverification.ssndobmatch\",\n",
    "    \".underwritingdataclarity.clearfraud.clearfraudidentityverification.nameaddressmatch\"\n",
    "]\n",
    "\n",
    "# Appliquer one-hot encoding sur les colonnes spécifiées\n",
    "df = pd.get_dummies(df, columns=columns_to_encode)\n",
    "\n",
    "# Afficher le DataFrame avec les nouvelles colonnes après l'encodage\n"
   ]
  },
  {
   "cell_type": "code",
   "execution_count": 82,
   "metadata": {
    "colab": {
     "base_uri": "https://localhost:8080/"
    },
    "id": "XanJHjkRpiIX",
    "outputId": "b526e011-3e26-49ce-c823-b1e60c14115f"
   },
   "outputs": [
    {
     "name": "stdout",
     "output_type": "stream",
     "text": [
      "<class 'pandas.core.frame.DataFrame'>\n",
      "RangeIndex: 49752 entries, 0 to 49751\n",
      "Data columns (total 76 columns):\n",
      " #   Column                                                                                                                   Non-Null Count  Dtype  \n",
      "---  ------                                                                                                                   --------------  -----  \n",
      " 0   .underwritingdataclarity.clearfraud.clearfraudinquiry.thirtydaysago                                                      49750 non-null  float64\n",
      " 1   .underwritingdataclarity.clearfraud.clearfraudinquiry.twentyfourhoursago                                                 49750 non-null  float64\n",
      " 2   .underwritingdataclarity.clearfraud.clearfraudinquiry.oneminuteago                                                       49750 non-null  float64\n",
      " 3   .underwritingdataclarity.clearfraud.clearfraudinquiry.onehourago                                                         49750 non-null  float64\n",
      " 4   .underwritingdataclarity.clearfraud.clearfraudinquiry.ninetydaysago                                                      49750 non-null  float64\n",
      " 5   .underwritingdataclarity.clearfraud.clearfraudinquiry.sevendaysago                                                       49750 non-null  float64\n",
      " 6   .underwritingdataclarity.clearfraud.clearfraudinquiry.tenminutesago                                                      49750 non-null  float64\n",
      " 7   .underwritingdataclarity.clearfraud.clearfraudinquiry.fifteendaysago                                                     49750 non-null  float64\n",
      " 8   .underwritingdataclarity.clearfraud.clearfraudinquiry.threesixtyfivedaysago                                              49750 non-null  float64\n",
      " 9   .underwritingdataclarity.clearfraud.clearfraudindicator.inquiryonfilecurrentaddressconflict                              49712 non-null  float64\n",
      " 10  .underwritingdataclarity.clearfraud.clearfraudindicator.totalnumberoffraudindicators                                     49735 non-null  float64\n",
      " 11  .underwritingdataclarity.clearfraud.clearfraudindicator.telephonenumberinconsistentwithaddress                           49712 non-null  float64\n",
      " 12  .underwritingdataclarity.clearfraud.clearfraudindicator.inquiryageyoungerthanssnissuedate                                49712 non-null  float64\n",
      " 13  .underwritingdataclarity.clearfraud.clearfraudindicator.onfileaddresscautious                                            49712 non-null  float64\n",
      " 14  .underwritingdataclarity.clearfraud.clearfraudindicator.inquiryaddressnonresidential                                     49712 non-null  float64\n",
      " 15  .underwritingdataclarity.clearfraud.clearfraudindicator.onfileaddresshighrisk                                            49712 non-null  float64\n",
      " 16  .underwritingdataclarity.clearfraud.clearfraudindicator.ssnreportedmorefrequentlyforanother                              49712 non-null  float64\n",
      " 17  .underwritingdataclarity.clearfraud.clearfraudindicator.currentaddressreportedbytradeopenlt90days                        49712 non-null  float64\n",
      " 18  .underwritingdataclarity.clearfraud.clearfraudindicator.inputssninvalid                                                  49712 non-null  float64\n",
      " 19  .underwritingdataclarity.clearfraud.clearfraudindicator.inputssnissuedatecannotbeverified                                49712 non-null  float64\n",
      " 20  .underwritingdataclarity.clearfraud.clearfraudindicator.inquiryaddresscautious                                           49712 non-null  float64\n",
      " 21  .underwritingdataclarity.clearfraud.clearfraudindicator.morethan3inquiriesinthelast30days                                49712 non-null  float64\n",
      " 22  .underwritingdataclarity.clearfraud.clearfraudindicator.onfileaddressnonresidential                                      49712 non-null  float64\n",
      " 23  .underwritingdataclarity.clearfraud.clearfraudindicator.creditestablishedpriortossnissuedate                             49712 non-null  float64\n",
      " 24  .underwritingdataclarity.clearfraud.clearfraudindicator.driverlicenseformatinvalid                                       44703 non-null  float64\n",
      " 25  .underwritingdataclarity.clearfraud.clearfraudindicator.inputssnrecordedasdeceased                                       49712 non-null  float64\n",
      " 26  .underwritingdataclarity.clearfraud.clearfraudindicator.inquiryaddresshighrisk                                           49712 non-null  float64\n",
      " 27  .underwritingdataclarity.clearfraud.clearfraudindicator.inquirycurrentaddressnotonfile                                   49712 non-null  float64\n",
      " 28  .underwritingdataclarity.clearfraud.clearfraudindicator.bestonfilessnissuedatecannotbeverified                           49712 non-null  float64\n",
      " 29  .underwritingdataclarity.clearfraud.clearfraudindicator.highprobabilityssnbelongstoanother                               49712 non-null  float64\n",
      " 30  .underwritingdataclarity.clearfraud.clearfraudindicator.maxnumberofssnswithanybankaccount                                49735 non-null  float64\n",
      " 31  .underwritingdataclarity.clearfraud.clearfraudindicator.bestonfilessnrecordedasdeceased                                  49712 non-null  float64\n",
      " 32  .underwritingdataclarity.clearfraud.clearfraudindicator.currentaddressreportedbynewtradeonly                             49712 non-null  float64\n",
      " 33  .underwritingdataclarity.clearfraud.clearfraudindicator.creditestablishedbeforeage18                                     49712 non-null  float64\n",
      " 34  .underwritingdataclarity.clearfraud.clearfraudindicator.telephonenumberinconsistentwithstate                             49071 non-null  float64\n",
      " 35  .underwritingdataclarity.clearfraud.clearfraudidentityverification.overallmatchreasoncode                                49720 non-null  float64\n",
      " 36  .underwritingdataclarity.clearfraud.clearfraudidentityverification.ssnnamematch_invalid                                  49752 non-null  uint8  \n",
      " 37  .underwritingdataclarity.clearfraud.clearfraudidentityverification.ssnnamematch_match                                    49752 non-null  uint8  \n",
      " 38  .underwritingdataclarity.clearfraud.clearfraudidentityverification.ssnnamematch_mismatch                                 49752 non-null  uint8  \n",
      " 39  .underwritingdataclarity.clearfraud.clearfraudidentityverification.ssnnamematch_partial                                  49752 non-null  uint8  \n",
      " 40  .underwritingdataclarity.clearfraud.clearfraudidentityverification.ssnnamematch_unavailable                              49752 non-null  uint8  \n",
      " 41  .underwritingdataclarity.clearfraud.clearfraudidentityverification.phonematchtype_A                                      49752 non-null  uint8  \n",
      " 42  .underwritingdataclarity.clearfraud.clearfraudidentityverification.phonematchtype_F                                      49752 non-null  uint8  \n",
      " 43  .underwritingdataclarity.clearfraud.clearfraudidentityverification.phonematchtype_FA                                     49752 non-null  uint8  \n",
      " 44  .underwritingdataclarity.clearfraud.clearfraudidentityverification.phonematchtype_L                                      49752 non-null  uint8  \n",
      " 45  .underwritingdataclarity.clearfraud.clearfraudidentityverification.phonematchtype_LA                                     49752 non-null  uint8  \n",
      " 46  .underwritingdataclarity.clearfraud.clearfraudidentityverification.phonematchtype_M                                      49752 non-null  uint8  \n",
      " 47  .underwritingdataclarity.clearfraud.clearfraudidentityverification.phonematchtype_P                                      49752 non-null  uint8  \n",
      " 48  .underwritingdataclarity.clearfraud.clearfraudidentityverification.phonematchtype_U                                      49752 non-null  uint8  \n",
      " 49  .underwritingdataclarity.clearfraud.clearfraudidentityverification.phonematchresult_invalid                              49752 non-null  uint8  \n",
      " 50  .underwritingdataclarity.clearfraud.clearfraudidentityverification.phonematchresult_match                                49752 non-null  uint8  \n",
      " 51  .underwritingdataclarity.clearfraud.clearfraudidentityverification.phonematchresult_mismatch                             49752 non-null  uint8  \n",
      " 52  .underwritingdataclarity.clearfraud.clearfraudidentityverification.phonematchresult_partial                              49752 non-null  uint8  \n",
      " 53  .underwritingdataclarity.clearfraud.clearfraudidentityverification.phonematchresult_unavailable                          49752 non-null  uint8  \n",
      " 54  .underwritingdataclarity.clearfraud.clearfraudidentityverification.phonematchtypedescription_(A) Address Only            49752 non-null  uint8  \n",
      " 55  .underwritingdataclarity.clearfraud.clearfraudidentityverification.phonematchtypedescription_(F) Full Name Only          49752 non-null  uint8  \n",
      " 56  .underwritingdataclarity.clearfraud.clearfraudidentityverification.phonematchtypedescription_(FA) Full Name and Address  49752 non-null  uint8  \n",
      " 57  .underwritingdataclarity.clearfraud.clearfraudidentityverification.phonematchtypedescription_(L) Last Name Only          49752 non-null  uint8  \n",
      " 58  .underwritingdataclarity.clearfraud.clearfraudidentityverification.phonematchtypedescription_(LA) Last Name and Address  49752 non-null  uint8  \n",
      " 59  .underwritingdataclarity.clearfraud.clearfraudidentityverification.phonematchtypedescription_(M) Mobile Phone            49752 non-null  uint8  \n",
      " 60  .underwritingdataclarity.clearfraud.clearfraudidentityverification.phonematchtypedescription_(P) Pager                   49752 non-null  uint8  \n",
      " 61  .underwritingdataclarity.clearfraud.clearfraudidentityverification.phonematchtypedescription_(U) Unlisted                49752 non-null  uint8  \n",
      " 62  .underwritingdataclarity.clearfraud.clearfraudidentityverification.overallmatchresult_match                              49752 non-null  uint8  \n",
      " 63  .underwritingdataclarity.clearfraud.clearfraudidentityverification.overallmatchresult_mismatch                           49752 non-null  uint8  \n",
      " 64  .underwritingdataclarity.clearfraud.clearfraudidentityverification.overallmatchresult_other                              49752 non-null  uint8  \n",
      " 65  .underwritingdataclarity.clearfraud.clearfraudidentityverification.overallmatchresult_partial                            49752 non-null  uint8  \n",
      " 66  .underwritingdataclarity.clearfraud.clearfraudidentityverification.ssndobmatch_invalid                                   49752 non-null  uint8  \n",
      " 67  .underwritingdataclarity.clearfraud.clearfraudidentityverification.ssndobmatch_match                                     49752 non-null  uint8  \n",
      " 68  .underwritingdataclarity.clearfraud.clearfraudidentityverification.ssndobmatch_mismatch                                  49752 non-null  uint8  \n",
      " 69  .underwritingdataclarity.clearfraud.clearfraudidentityverification.ssndobmatch_partial                                   49752 non-null  uint8  \n",
      " 70  .underwritingdataclarity.clearfraud.clearfraudidentityverification.ssndobmatch_unavailable                               49752 non-null  uint8  \n",
      " 71  .underwritingdataclarity.clearfraud.clearfraudidentityverification.nameaddressmatch_invalid                              49752 non-null  uint8  \n",
      " 72  .underwritingdataclarity.clearfraud.clearfraudidentityverification.nameaddressmatch_match                                49752 non-null  uint8  \n",
      " 73  .underwritingdataclarity.clearfraud.clearfraudidentityverification.nameaddressmatch_mismatch                             49752 non-null  uint8  \n",
      " 74  .underwritingdataclarity.clearfraud.clearfraudidentityverification.nameaddressmatch_partial                              49752 non-null  uint8  \n",
      " 75  .underwritingdataclarity.clearfraud.clearfraudidentityverification.nameaddressmatch_unavailable                          49752 non-null  uint8  \n",
      "dtypes: float64(36), uint8(40)\n",
      "memory usage: 15.6 MB\n"
     ]
    }
   ],
   "source": [
    "df.info()"
   ]
  },
  {
   "cell_type": "code",
   "execution_count": 83,
   "metadata": {
    "colab": {
     "base_uri": "https://localhost:8080/"
    },
    "id": "T5rN-vaQs-72",
    "outputId": "7b945232-58d3-4fc0-a81d-2b478b60ce4b"
   },
   "outputs": [
    {
     "name": "stdout",
     "output_type": "stream",
     "text": [
      "<class 'pandas.core.frame.DataFrame'>\n",
      "RangeIndex: 49752 entries, 0 to 49751\n",
      "Data columns (total 76 columns):\n",
      " #   Column                                                                                                                   Non-Null Count  Dtype  \n",
      "---  ------                                                                                                                   --------------  -----  \n",
      " 0   .underwritingdataclarity.clearfraud.clearfraudinquiry.thirtydaysago                                                      49750 non-null  float64\n",
      " 1   .underwritingdataclarity.clearfraud.clearfraudinquiry.twentyfourhoursago                                                 49750 non-null  float64\n",
      " 2   .underwritingdataclarity.clearfraud.clearfraudinquiry.oneminuteago                                                       49750 non-null  float64\n",
      " 3   .underwritingdataclarity.clearfraud.clearfraudinquiry.onehourago                                                         49750 non-null  float64\n",
      " 4   .underwritingdataclarity.clearfraud.clearfraudinquiry.ninetydaysago                                                      49750 non-null  float64\n",
      " 5   .underwritingdataclarity.clearfraud.clearfraudinquiry.sevendaysago                                                       49750 non-null  float64\n",
      " 6   .underwritingdataclarity.clearfraud.clearfraudinquiry.tenminutesago                                                      49750 non-null  float64\n",
      " 7   .underwritingdataclarity.clearfraud.clearfraudinquiry.fifteendaysago                                                     49750 non-null  float64\n",
      " 8   .underwritingdataclarity.clearfraud.clearfraudinquiry.threesixtyfivedaysago                                              49750 non-null  float64\n",
      " 9   .underwritingdataclarity.clearfraud.clearfraudindicator.inquiryonfilecurrentaddressconflict                              49712 non-null  float64\n",
      " 10  .underwritingdataclarity.clearfraud.clearfraudindicator.totalnumberoffraudindicators                                     49735 non-null  float64\n",
      " 11  .underwritingdataclarity.clearfraud.clearfraudindicator.telephonenumberinconsistentwithaddress                           49712 non-null  float64\n",
      " 12  .underwritingdataclarity.clearfraud.clearfraudindicator.inquiryageyoungerthanssnissuedate                                49712 non-null  float64\n",
      " 13  .underwritingdataclarity.clearfraud.clearfraudindicator.onfileaddresscautious                                            49712 non-null  float64\n",
      " 14  .underwritingdataclarity.clearfraud.clearfraudindicator.inquiryaddressnonresidential                                     49712 non-null  float64\n",
      " 15  .underwritingdataclarity.clearfraud.clearfraudindicator.onfileaddresshighrisk                                            49712 non-null  float64\n",
      " 16  .underwritingdataclarity.clearfraud.clearfraudindicator.ssnreportedmorefrequentlyforanother                              49712 non-null  float64\n",
      " 17  .underwritingdataclarity.clearfraud.clearfraudindicator.currentaddressreportedbytradeopenlt90days                        49712 non-null  float64\n",
      " 18  .underwritingdataclarity.clearfraud.clearfraudindicator.inputssninvalid                                                  49712 non-null  float64\n",
      " 19  .underwritingdataclarity.clearfraud.clearfraudindicator.inputssnissuedatecannotbeverified                                49712 non-null  float64\n",
      " 20  .underwritingdataclarity.clearfraud.clearfraudindicator.inquiryaddresscautious                                           49712 non-null  float64\n",
      " 21  .underwritingdataclarity.clearfraud.clearfraudindicator.morethan3inquiriesinthelast30days                                49712 non-null  float64\n",
      " 22  .underwritingdataclarity.clearfraud.clearfraudindicator.onfileaddressnonresidential                                      49712 non-null  float64\n",
      " 23  .underwritingdataclarity.clearfraud.clearfraudindicator.creditestablishedpriortossnissuedate                             49712 non-null  float64\n",
      " 24  .underwritingdataclarity.clearfraud.clearfraudindicator.driverlicenseformatinvalid                                       44703 non-null  float64\n",
      " 25  .underwritingdataclarity.clearfraud.clearfraudindicator.inputssnrecordedasdeceased                                       49712 non-null  float64\n",
      " 26  .underwritingdataclarity.clearfraud.clearfraudindicator.inquiryaddresshighrisk                                           49712 non-null  float64\n",
      " 27  .underwritingdataclarity.clearfraud.clearfraudindicator.inquirycurrentaddressnotonfile                                   49712 non-null  float64\n",
      " 28  .underwritingdataclarity.clearfraud.clearfraudindicator.bestonfilessnissuedatecannotbeverified                           49712 non-null  float64\n",
      " 29  .underwritingdataclarity.clearfraud.clearfraudindicator.highprobabilityssnbelongstoanother                               49712 non-null  float64\n",
      " 30  .underwritingdataclarity.clearfraud.clearfraudindicator.maxnumberofssnswithanybankaccount                                49735 non-null  float64\n",
      " 31  .underwritingdataclarity.clearfraud.clearfraudindicator.bestonfilessnrecordedasdeceased                                  49712 non-null  float64\n",
      " 32  .underwritingdataclarity.clearfraud.clearfraudindicator.currentaddressreportedbynewtradeonly                             49712 non-null  float64\n",
      " 33  .underwritingdataclarity.clearfraud.clearfraudindicator.creditestablishedbeforeage18                                     49712 non-null  float64\n",
      " 34  .underwritingdataclarity.clearfraud.clearfraudindicator.telephonenumberinconsistentwithstate                             49071 non-null  float64\n",
      " 35  .underwritingdataclarity.clearfraud.clearfraudidentityverification.overallmatchreasoncode                                49720 non-null  float64\n",
      " 36  .underwritingdataclarity.clearfraud.clearfraudidentityverification.ssnnamematch_invalid                                  49752 non-null  uint8  \n",
      " 37  .underwritingdataclarity.clearfraud.clearfraudidentityverification.ssnnamematch_match                                    49752 non-null  uint8  \n",
      " 38  .underwritingdataclarity.clearfraud.clearfraudidentityverification.ssnnamematch_mismatch                                 49752 non-null  uint8  \n",
      " 39  .underwritingdataclarity.clearfraud.clearfraudidentityverification.ssnnamematch_partial                                  49752 non-null  uint8  \n",
      " 40  .underwritingdataclarity.clearfraud.clearfraudidentityverification.ssnnamematch_unavailable                              49752 non-null  uint8  \n",
      " 41  .underwritingdataclarity.clearfraud.clearfraudidentityverification.phonematchtype_A                                      49752 non-null  uint8  \n",
      " 42  .underwritingdataclarity.clearfraud.clearfraudidentityverification.phonematchtype_F                                      49752 non-null  uint8  \n",
      " 43  .underwritingdataclarity.clearfraud.clearfraudidentityverification.phonematchtype_FA                                     49752 non-null  uint8  \n",
      " 44  .underwritingdataclarity.clearfraud.clearfraudidentityverification.phonematchtype_L                                      49752 non-null  uint8  \n",
      " 45  .underwritingdataclarity.clearfraud.clearfraudidentityverification.phonematchtype_LA                                     49752 non-null  uint8  \n",
      " 46  .underwritingdataclarity.clearfraud.clearfraudidentityverification.phonematchtype_M                                      49752 non-null  uint8  \n",
      " 47  .underwritingdataclarity.clearfraud.clearfraudidentityverification.phonematchtype_P                                      49752 non-null  uint8  \n",
      " 48  .underwritingdataclarity.clearfraud.clearfraudidentityverification.phonematchtype_U                                      49752 non-null  uint8  \n",
      " 49  .underwritingdataclarity.clearfraud.clearfraudidentityverification.phonematchresult_invalid                              49752 non-null  uint8  \n",
      " 50  .underwritingdataclarity.clearfraud.clearfraudidentityverification.phonematchresult_match                                49752 non-null  uint8  \n",
      " 51  .underwritingdataclarity.clearfraud.clearfraudidentityverification.phonematchresult_mismatch                             49752 non-null  uint8  \n",
      " 52  .underwritingdataclarity.clearfraud.clearfraudidentityverification.phonematchresult_partial                              49752 non-null  uint8  \n",
      " 53  .underwritingdataclarity.clearfraud.clearfraudidentityverification.phonematchresult_unavailable                          49752 non-null  uint8  \n",
      " 54  .underwritingdataclarity.clearfraud.clearfraudidentityverification.phonematchtypedescription_(A) Address Only            49752 non-null  uint8  \n",
      " 55  .underwritingdataclarity.clearfraud.clearfraudidentityverification.phonematchtypedescription_(F) Full Name Only          49752 non-null  uint8  \n",
      " 56  .underwritingdataclarity.clearfraud.clearfraudidentityverification.phonematchtypedescription_(FA) Full Name and Address  49752 non-null  uint8  \n",
      " 57  .underwritingdataclarity.clearfraud.clearfraudidentityverification.phonematchtypedescription_(L) Last Name Only          49752 non-null  uint8  \n",
      " 58  .underwritingdataclarity.clearfraud.clearfraudidentityverification.phonematchtypedescription_(LA) Last Name and Address  49752 non-null  uint8  \n",
      " 59  .underwritingdataclarity.clearfraud.clearfraudidentityverification.phonematchtypedescription_(M) Mobile Phone            49752 non-null  uint8  \n",
      " 60  .underwritingdataclarity.clearfraud.clearfraudidentityverification.phonematchtypedescription_(P) Pager                   49752 non-null  uint8  \n",
      " 61  .underwritingdataclarity.clearfraud.clearfraudidentityverification.phonematchtypedescription_(U) Unlisted                49752 non-null  uint8  \n",
      " 62  .underwritingdataclarity.clearfraud.clearfraudidentityverification.overallmatchresult_match                              49752 non-null  uint8  \n",
      " 63  .underwritingdataclarity.clearfraud.clearfraudidentityverification.overallmatchresult_mismatch                           49752 non-null  uint8  \n",
      " 64  .underwritingdataclarity.clearfraud.clearfraudidentityverification.overallmatchresult_other                              49752 non-null  uint8  \n",
      " 65  .underwritingdataclarity.clearfraud.clearfraudidentityverification.overallmatchresult_partial                            49752 non-null  uint8  \n",
      " 66  .underwritingdataclarity.clearfraud.clearfraudidentityverification.ssndobmatch_invalid                                   49752 non-null  uint8  \n",
      " 67  .underwritingdataclarity.clearfraud.clearfraudidentityverification.ssndobmatch_match                                     49752 non-null  uint8  \n",
      " 68  .underwritingdataclarity.clearfraud.clearfraudidentityverification.ssndobmatch_mismatch                                  49752 non-null  uint8  \n",
      " 69  .underwritingdataclarity.clearfraud.clearfraudidentityverification.ssndobmatch_partial                                   49752 non-null  uint8  \n",
      " 70  .underwritingdataclarity.clearfraud.clearfraudidentityverification.ssndobmatch_unavailable                               49752 non-null  uint8  \n",
      " 71  .underwritingdataclarity.clearfraud.clearfraudidentityverification.nameaddressmatch_invalid                              49752 non-null  uint8  \n",
      " 72  .underwritingdataclarity.clearfraud.clearfraudidentityverification.nameaddressmatch_match                                49752 non-null  uint8  \n",
      " 73  .underwritingdataclarity.clearfraud.clearfraudidentityverification.nameaddressmatch_mismatch                             49752 non-null  uint8  \n",
      " 74  .underwritingdataclarity.clearfraud.clearfraudidentityverification.nameaddressmatch_partial                              49752 non-null  uint8  \n",
      " 75  .underwritingdataclarity.clearfraud.clearfraudidentityverification.nameaddressmatch_unavailable                          49752 non-null  uint8  \n",
      "dtypes: float64(36), uint8(40)\n",
      "memory usage: 15.6 MB\n"
     ]
    }
   ],
   "source": [
    "# Convertir les données uint8 en float64\n",
    "df.info()"
   ]
  },
  {
   "cell_type": "code",
   "execution_count": 84,
   "metadata": {
    "id": "LZ4juHFutuXW"
   },
   "outputs": [],
   "source": [
    "from sklearn.impute import KNNImputer\n",
    "\n",
    "imputer = KNNImputer(n_neighbors=5)  \n",
    "df_imputed = pd.DataFrame(imputer.fit_transform(df), columns=df.columns)"
   ]
  },
  {
   "cell_type": "code",
   "execution_count": 85,
   "metadata": {
    "colab": {
     "base_uri": "https://localhost:8080/"
    },
    "id": "FLqL87WHuGWt",
    "outputId": "1b097dcd-445b-423a-f67a-4502c923ad12"
   },
   "outputs": [
    {
     "data": {
      "text/plain": [
       ".underwritingdataclarity.clearfraud.clearfraudinquiry.thirtydaysago                                0\n",
       ".underwritingdataclarity.clearfraud.clearfraudinquiry.twentyfourhoursago                           0\n",
       ".underwritingdataclarity.clearfraud.clearfraudinquiry.oneminuteago                                 0\n",
       ".underwritingdataclarity.clearfraud.clearfraudinquiry.onehourago                                   0\n",
       ".underwritingdataclarity.clearfraud.clearfraudinquiry.ninetydaysago                                0\n",
       "                                                                                                  ..\n",
       ".underwritingdataclarity.clearfraud.clearfraudidentityverification.nameaddressmatch_invalid        0\n",
       ".underwritingdataclarity.clearfraud.clearfraudidentityverification.nameaddressmatch_match          0\n",
       ".underwritingdataclarity.clearfraud.clearfraudidentityverification.nameaddressmatch_mismatch       0\n",
       ".underwritingdataclarity.clearfraud.clearfraudidentityverification.nameaddressmatch_partial        0\n",
       ".underwritingdataclarity.clearfraud.clearfraudidentityverification.nameaddressmatch_unavailable    0\n",
       "Length: 76, dtype: int64"
      ]
     },
     "execution_count": 85,
     "metadata": {},
     "output_type": "execute_result"
    }
   ],
   "source": [
    "df_imputed.isna().sum()"
   ]
  },
  {
   "cell_type": "code",
   "execution_count": 86,
   "metadata": {
    "colab": {
     "base_uri": "https://localhost:8080/"
    },
    "id": "wmOi1VvfvDD6",
    "outputId": "f223a057-d634-4cd0-c408-be9c970e8834"
   },
   "outputs": [
    {
     "name": "stdout",
     "output_type": "stream",
     "text": [
      "Number of columns without any null values: 76\n"
     ]
    }
   ],
   "source": [
    "# Count the number of null values in each column\n",
    "null_counts = df_imputed.isna().sum()\n",
    "\n",
    "# Count the number of columns without any null values\n",
    "non_null_columns_count = (null_counts == 0).sum()\n",
    "\n",
    "print(\"Number of columns without any null values:\", non_null_columns_count)\n"
   ]
  },
  {
   "cell_type": "markdown",
   "metadata": {},
   "source": [
    "# 3.   Data Preprocessing"
   ]
  },
  {
   "cell_type": "code",
   "execution_count": 87,
   "metadata": {
    "id": "ni8xlQ-DwfuS"
   },
   "outputs": [],
   "source": [
    "train_combined, test_combined = separate_datasets(df, len(df1))"
   ]
  },
  {
   "cell_type": "code",
   "execution_count": 88,
   "metadata": {
    "colab": {
     "base_uri": "https://localhost:8080/"
    },
    "id": "NJzVjwRUxHSJ",
    "outputId": "61c5e81b-622f-4dff-ffc2-1d23d59e76d7"
   },
   "outputs": [
    {
     "data": {
      "text/plain": [
       "((48752, 76), (1000, 76))"
      ]
     },
     "execution_count": 88,
     "metadata": {},
     "output_type": "execute_result"
    }
   ],
   "source": [
    "train_combined.shape, test_combined.shape"
   ]
  },
  {
   "cell_type": "code",
   "execution_count": 89,
   "metadata": {
    "id": "K5vjPukXwYlS"
   },
   "outputs": [],
   "source": [
    "from sklearn.model_selection import train_test_split\n",
    "\n",
    "# Split the data into features (X) and target variable (y)\n",
    "X = train_combined\n",
    "y = df1['clearfraudscore']"
   ]
  },
  {
   "cell_type": "code",
   "execution_count": 90,
   "metadata": {
    "colab": {
     "base_uri": "https://localhost:8080/"
    },
    "id": "KH1x3GraBeG5",
    "outputId": "0ac4643d-88fa-451e-b2a1-45724b3b0040"
   },
   "outputs": [
    {
     "data": {
      "text/plain": [
       "0        871.0\n",
       "1        397.0\n",
       "2        572.0\n",
       "3        838.0\n",
       "4        768.0\n",
       "         ...  \n",
       "48747    677.0\n",
       "48748    640.0\n",
       "48749    576.0\n",
       "48750    830.0\n",
       "48751    793.0\n",
       "Name: clearfraudscore, Length: 48752, dtype: float64"
      ]
     },
     "execution_count": 90,
     "metadata": {},
     "output_type": "execute_result"
    }
   ],
   "source": [
    "y"
   ]
  },
  {
   "cell_type": "code",
   "execution_count": 91,
   "metadata": {
    "id": "kzPpjx3lBK1C"
   },
   "outputs": [],
   "source": [
    "median_score = y.median()\n",
    "y = y.fillna(median_score)"
   ]
  },
  {
   "cell_type": "code",
   "execution_count": 92,
   "metadata": {
    "colab": {
     "base_uri": "https://localhost:8080/"
    },
    "id": "XgrLIiBPDHaW",
    "outputId": "6d5eeb5d-25e9-44a6-de49-ebcb6267f7a0"
   },
   "outputs": [
    {
     "data": {
      "text/plain": [
       "0"
      ]
     },
     "execution_count": 92,
     "metadata": {},
     "output_type": "execute_result"
    }
   ],
   "source": [
    "y.isna().sum()"
   ]
  },
  {
   "cell_type": "code",
   "execution_count": 93,
   "metadata": {
    "id": "GDhutwR1B_PB"
   },
   "outputs": [],
   "source": [
    "# Split the data into training and testing sets\n",
    "X_train, X_test, y_train, y_test = train_test_split(X, y, test_size=0.2, random_state=42)"
   ]
  },
  {
   "cell_type": "markdown",
   "metadata": {},
   "source": [
    "# 4.   Model Selection"
   ]
  },
  {
   "cell_type": "code",
   "execution_count": 94,
   "metadata": {
    "colab": {
     "base_uri": "https://localhost:8080/",
     "height": 443
    },
    "id": "HYlYyQMK_dqI",
    "outputId": "ad1c4334-27c3-429a-94d7-3d6dfda5f44d"
   },
   "outputs": [
    {
     "name": "stdout",
     "output_type": "stream",
     "text": [
      "Root Mean Squared Error: 94.44913046346618\n"
     ]
    }
   ],
   "source": [
    "from sklearn.impute import SimpleImputer\n",
    "from sklearn.preprocessing import StandardScaler\n",
    "from sklearn.metrics import mean_squared_error\n",
    "\n",
    "\n",
    "# Define the XGBoost model\n",
    "xgb_model = xgb.XGBRegressor(objective='reg:squarederror', random_state=42)\n",
    "\n",
    "# Handle missing values\n",
    "imputer = SimpleImputer(strategy='mean')\n",
    "X_train_imputed = imputer.fit_transform(X_train)\n",
    "X_test_imputed = imputer.transform(X_test)\n",
    "\n",
    "# Handle infinite values\n",
    "X_train_imputed = np.nan_to_num(X_train_imputed, nan=np.nan, posinf=np.nan, neginf=np.nan)\n",
    "X_test_imputed = np.nan_to_num(X_test_imputed, nan=np.nan, posinf=np.nan, neginf=np.nan)\n",
    "\n",
    "# Scale your data\n",
    "scaler = StandardScaler()\n",
    "X_train_scaled = scaler.fit_transform(X_train_imputed)\n",
    "X_test_scaled = scaler.transform(X_test_imputed)\n",
    "\n",
    "# Train the model\n",
    "xgb_model.fit(X_train_scaled, y_train)\n",
    "\n",
    "# Predict on the test set\n",
    "y_pred = xgb_model.predict(X_test_scaled)\n",
    "\n",
    "# Evaluate the model\n",
    "mse = mean_squared_error(y_test, y_pred)\n",
    "rmse = np.sqrt(mse)\n",
    "print(f\"Root Mean Squared Error: {rmse}\")\n"
   ]
  },
  {
   "cell_type": "code",
   "execution_count": 107,
   "metadata": {},
   "outputs": [],
   "source": [
    "# Predict on the testing set\n",
    "submission_predictions = xgb_model.predict(test_combined)"
   ]
  },
  {
   "cell_type": "code",
   "execution_count": 108,
   "metadata": {
    "colab": {
     "base_uri": "https://localhost:8080/"
    },
    "id": "tsZd9lM_D1k8",
    "outputId": "bd9e5329-95c3-49f4-af40-d9a52ce00aba"
   },
   "outputs": [
    {
     "data": {
      "text/plain": [
       "array([660.1254 , 801.3176 , 740.8749 , 744.27014, 764.041  , 669.07214,\n",
       "       637.1385 , 722.61127, 738.718  , 765.9642 , 692.3342 , 758.0527 ,\n",
       "       662.695  , 678.86194, 689.6446 , 853.78253, 600.9587 , 724.7368 ,\n",
       "       798.71515, 748.1808 , 787.6073 , 686.6106 , 694.3372 , 673.25   ,\n",
       "       726.0485 , 622.719  , 760.3655 , 648.06805, 649.19324, 590.0073 ,\n",
       "       731.0358 , 686.7662 , 542.2732 , 855.5747 , 714.9281 , 656.78326,\n",
       "       583.35565, 744.55493, 780.534  , 574.73   , 635.88904, 761.94214,\n",
       "       730.69806, 704.7396 , 631.77356, 660.3307 , 647.4924 , 621.8718 ,\n",
       "       672.40894, 635.4504 , 586.84406, 681.238  , 643.92694, 668.5289 ,\n",
       "       663.3148 , 746.54785, 654.43365, 729.9126 , 630.7289 , 684.56116,\n",
       "       695.297  , 691.11847, 701.2235 , 576.42487, 615.53436, 634.77386,\n",
       "       617.3992 , 611.0928 , 771.0265 , 725.98395, 771.9873 , 729.98535,\n",
       "       694.97394, 781.47296, 628.35657, 633.42957, 731.00665, 747.4929 ,\n",
       "       574.15015, 630.835  , 611.9481 , 648.6943 , 601.97577, 571.81616,\n",
       "       724.8234 , 649.5805 , 812.08124, 643.36774, 757.7819 , 625.95844,\n",
       "       574.10156, 688.9592 , 636.1655 , 589.2632 , 660.35913, 625.14886,\n",
       "       627.3392 , 695.72797, 782.85815, 638.7062 , 638.9571 , 641.725  ,\n",
       "       658.0548 , 669.68787, 615.6034 , 699.4322 , 699.87024, 597.0932 ,\n",
       "       596.65924, 593.2165 , 537.1775 , 588.3111 , 646.7309 , 658.71747,\n",
       "       728.039  , 645.41095, 623.5309 , 669.0264 , 727.9589 , 677.4066 ,\n",
       "       717.6068 , 660.2203 , 530.774  , 683.2617 , 673.5231 , 670.09296,\n",
       "       677.5476 , 628.5642 , 569.2995 , 761.08105, 630.0671 , 670.35266,\n",
       "       579.8539 , 633.68964, 611.8599 , 603.25446, 658.71747, 662.6762 ,\n",
       "       624.2963 , 632.3588 , 617.597  , 627.2126 , 679.5938 , 571.64453,\n",
       "       647.19165, 543.40015, 588.01544, 651.2661 , 641.2735 , 788.4854 ,\n",
       "       633.5266 , 613.8764 , 687.8501 , 580.27637, 629.7607 , 637.62537,\n",
       "       650.1811 , 566.2785 , 760.9374 , 639.82245, 597.9381 , 649.01636,\n",
       "       699.4322 , 733.88635, 636.7822 , 726.73193, 584.3218 , 706.9606 ,\n",
       "       588.87476, 608.85767, 670.2595 , 717.6208 , 610.2612 , 752.20123,\n",
       "       593.974  , 537.7465 , 608.2382 , 731.58813, 611.5644 , 637.9077 ,\n",
       "       681.3378 , 674.5277 , 594.1601 , 786.6946 , 627.238  , 677.185  ,\n",
       "       551.2694 , 587.7778 , 686.99194, 649.03906, 535.1454 , 587.5768 ,\n",
       "       628.27014, 621.27795, 580.67993, 586.5822 , 557.9193 , 604.8317 ,\n",
       "       612.58716, 607.5344 , 724.1067 , 661.98865, 713.0598 , 713.8823 ,\n",
       "       646.70526, 656.6477 , 688.1714 , 680.31573, 644.16644, 752.6903 ,\n",
       "       711.004  , 611.59814, 687.28015, 623.0034 , 706.3187 , 596.24243,\n",
       "       552.5141 , 687.28033, 638.51324, 697.71246, 541.27246, 695.94464,\n",
       "       550.2672 , 575.64734, 712.3072 , 676.0684 , 683.7205 , 690.14355,\n",
       "       655.5297 , 648.306  , 616.496  , 652.7016 , 676.72424, 779.49036,\n",
       "       705.27875, 554.8767 , 715.1109 , 639.44916, 697.0691 , 595.2121 ,\n",
       "       675.5179 , 603.49695, 556.79803, 665.69037, 644.8881 , 653.21045,\n",
       "       656.5716 , 595.5997 , 598.09973, 702.4886 , 671.8787 , 669.6118 ,\n",
       "       691.28674, 776.34717, 620.8805 , 659.0269 , 568.5593 , 712.29785,\n",
       "       630.18243, 665.4204 , 745.54376, 632.7975 , 631.8221 , 735.7546 ,\n",
       "       578.1882 , 588.6837 , 663.05676, 641.50665, 572.77246, 655.22174,\n",
       "       623.4315 , 740.1727 , 588.9655 , 620.27435, 647.89624, 559.78973,\n",
       "       696.20715, 667.92706, 580.45935, 684.97375, 713.8963 , 638.6167 ,\n",
       "       603.3192 , 628.0173 , 641.89856, 688.4769 , 625.04614, 751.59924,\n",
       "       650.15015, 621.47   , 721.1017 , 647.69226, 644.4508 , 572.4778 ,\n",
       "       620.5556 , 714.08124, 522.7024 , 661.6928 , 597.1764 , 646.38635,\n",
       "       702.897  , 655.5297 , 682.5865 , 687.76636, 563.6301 , 681.44116,\n",
       "       574.73   , 732.91547, 610.32623, 736.2507 , 579.297  , 644.0055 ,\n",
       "       637.9077 , 696.7355 , 640.1094 , 669.52594, 585.8925 , 616.0212 ,\n",
       "       628.68097, 604.7177 , 625.36224, 599.2889 , 646.4745 , 640.89124,\n",
       "       709.21674, 601.1602 , 561.7413 , 592.8634 , 517.8631 , 643.52094,\n",
       "       703.131  , 648.64954, 696.2633 , 531.2127 , 595.7376 , 620.4541 ,\n",
       "       667.7361 , 672.3593 , 582.94904, 689.76746, 602.33875, 649.31866,\n",
       "       624.972  , 684.4678 , 682.4864 , 624.49097, 666.28564, 625.2664 ,\n",
       "       725.76434, 737.32117, 572.0454 , 698.2442 , 559.01495, 686.2251 ,\n",
       "       617.25073, 671.20605, 677.753  , 605.73517, 720.2196 , 627.70996,\n",
       "       764.2182 , 640.93286, 657.0141 , 665.5867 , 626.5182 , 682.45   ,\n",
       "       603.25446, 749.88574, 630.6046 , 559.2475 , 620.1083 , 726.3526 ,\n",
       "       566.08966, 603.25446, 533.0875 , 593.6672 , 585.7576 , 571.4648 ,\n",
       "       555.1618 , 637.14703, 582.6864 , 637.7673 , 589.0686 , 678.6463 ,\n",
       "       560.4795 , 589.2987 , 596.78595, 504.48154, 668.8189 , 762.26025,\n",
       "       716.63257, 680.5133 , 630.1963 , 757.27   , 614.0401 , 723.9693 ,\n",
       "       570.70166, 681.78436, 767.5171 , 795.1985 , 529.8709 , 601.89685,\n",
       "       647.55194, 590.0173 , 574.15015, 709.65216, 699.88306, 584.40356,\n",
       "       517.5953 , 676.3953 , 647.31726, 625.40344, 616.28534, 714.9835 ,\n",
       "       636.37823, 628.43024, 537.38544, 730.59515, 752.7505 , 672.3451 ,\n",
       "       584.2881 , 715.5743 , 756.7427 , 698.9651 , 595.6775 , 663.80396,\n",
       "       628.14185, 660.29877, 667.6703 , 593.974  , 718.3576 , 723.553  ,\n",
       "       566.49817, 603.19617, 647.04706, 610.1329 , 679.79047, 687.80255,\n",
       "       667.64264, 676.0214 , 738.53174, 725.1603 , 619.491  , 644.3813 ,\n",
       "       637.92395, 618.6343 , 598.398  , 748.8825 , 695.10626, 744.6703 ,\n",
       "       615.4874 , 627.6404 , 639.11316, 653.4263 , 682.     , 626.58954,\n",
       "       712.2491 , 681.40204, 600.5229 , 590.7428 , 553.7345 , 642.6126 ,\n",
       "       685.47235, 773.5926 , 570.14014, 734.8564 , 705.73895, 702.3018 ,\n",
       "       581.90717, 684.67267, 643.2484 , 653.8068 , 654.85895, 697.10944,\n",
       "       739.8219 , 590.3648 , 773.1636 , 588.50494, 525.32587, 639.7579 ,\n",
       "       744.2617 , 555.90283, 605.2307 , 660.13586, 670.5789 , 540.2425 ,\n",
       "       697.34216, 567.27704, 552.74817, 605.1525 , 638.1678 , 668.52136,\n",
       "       691.8749 , 696.99896, 634.59564, 612.7114 , 606.8749 , 595.8421 ,\n",
       "       625.28314, 621.07465, 635.00195, 584.2933 , 761.33545, 632.8324 ,\n",
       "       674.0289 , 586.4878 , 651.6516 , 692.697  , 538.16016, 632.44617,\n",
       "       664.63776, 598.08167, 570.80194, 653.8752 , 702.1896 , 610.98755,\n",
       "       599.8221 , 640.15063, 680.1785 , 616.52   , 603.39465, 607.938  ,\n",
       "       649.1452 , 585.3387 , 704.6092 , 676.88464, 521.54987, 597.3825 ,\n",
       "       670.0992 , 670.8824 , 588.8621 , 640.9605 , 614.3172 , 609.6342 ,\n",
       "       630.8959 , 536.2857 , 581.01776, 655.8786 , 524.4609 , 680.4325 ,\n",
       "       730.1309 , 556.4384 , 691.68274, 597.5007 , 686.7977 , 573.25494,\n",
       "       577.805  , 672.6557 , 648.6679 , 713.81604, 605.5622 , 698.1051 ,\n",
       "       709.3436 , 668.91016, 601.0866 , 575.6291 , 603.4316 , 595.26013,\n",
       "       576.77765, 655.32996, 693.1841 , 594.3053 , 694.10034, 534.6079 ,\n",
       "       695.18585, 637.48206, 645.3293 , 556.79803, 662.6629 , 639.3661 ,\n",
       "       708.4659 , 615.8119 , 656.464  , 553.3146 , 599.1793 , 677.2049 ,\n",
       "       677.88983, 625.97174, 661.13745, 698.3291 , 556.79803, 684.38   ,\n",
       "       610.7171 , 654.85895, 658.7486 , 568.8358 , 568.62805, 720.1269 ,\n",
       "       657.94385, 724.14844, 627.36566, 730.8542 , 676.7348 , 655.1002 ,\n",
       "       687.7006 , 611.8599 , 646.7315 , 738.8905 , 710.3937 , 818.0607 ,\n",
       "       675.7754 , 703.2574 , 669.0264 , 601.1602 , 556.79803, 649.75336,\n",
       "       668.1037 , 571.73   , 691.64606, 671.8433 , 642.1921 , 690.69366,\n",
       "       715.6975 , 686.48505, 592.4913 , 584.70905, 721.14996, 616.55914,\n",
       "       629.8075 , 522.75476, 631.8875 , 655.6408 , 635.205  , 736.7252 ,\n",
       "       545.1739 , 734.8778 , 674.6664 , 693.53577, 724.09985, 603.73804,\n",
       "       766.45874, 602.4678 , 620.7722 , 547.759  , 658.32294, 583.759  ,\n",
       "       606.01794, 619.73987, 590.3648 , 671.0922 , 637.73413, 716.4157 ,\n",
       "       556.79803, 725.18854, 660.15094, 598.89886, 679.7862 , 556.79803,\n",
       "       553.7345 , 706.49585, 702.39954, 647.16376, 628.42365, 656.9513 ,\n",
       "       692.6566 , 645.2637 , 784.6186 , 736.20514, 577.81665, 701.83405,\n",
       "       507.40887, 632.93884, 739.50336, 629.8273 , 806.7586 , 704.6222 ,\n",
       "       681.53107, 662.6762 , 578.49536, 568.8358 , 719.2168 , 658.71747,\n",
       "       671.4938 , 533.9173 , 602.07086, 556.79803, 757.7104 , 666.34985,\n",
       "       620.5556 , 739.6581 , 654.1225 , 633.1811 , 648.80804, 728.39435,\n",
       "       590.3648 , 520.68506, 744.6246 , 645.5856 , 716.964  , 663.36194,\n",
       "       736.1738 , 683.3626 , 696.183  , 641.4495 , 666.5875 , 678.28735,\n",
       "       607.80994, 646.0828 , 523.5308 , 680.1952 , 651.0047 , 722.4698 ,\n",
       "       766.68646, 749.2357 , 648.9986 , 782.4295 , 615.87054, 505.2092 ,\n",
       "       631.2814 , 793.8385 , 609.721  , 640.94086, 638.0282 , 540.3228 ,\n",
       "       658.9187 , 734.9259 , 612.82166, 633.2503 , 718.9606 , 667.3738 ,\n",
       "       630.5312 , 655.4416 , 735.34375, 669.8793 , 511.92758, 567.60376,\n",
       "       622.4988 , 654.7687 , 633.42957, 811.242  , 722.0418 , 522.75476,\n",
       "       616.1074 , 682.4618 , 699.56396, 608.2382 , 599.402  , 610.04236,\n",
       "       722.4698 , 623.03033, 662.9609 , 547.2175 , 681.27026, 710.6883 ,\n",
       "       623.34186, 675.2005 , 810.90204, 656.3169 , 721.87146, 623.37335,\n",
       "       577.8112 , 553.1084 , 615.70166, 748.06525, 685.2956 , 646.422  ,\n",
       "       606.66077, 751.1592 , 686.0013 , 655.93207, 790.13574, 641.5415 ,\n",
       "       652.0901 , 703.4691 , 611.8599 , 656.35925, 737.783  , 624.12836,\n",
       "       609.5901 , 708.80853, 618.8093 , 637.85626, 692.0817 , 683.4529 ,\n",
       "       636.47064, 587.12836, 593.2165 , 698.9225 , 665.0549 , 713.6142 ,\n",
       "       615.78735, 731.3394 , 658.9554 , 641.6449 , 751.8784 , 716.49524,\n",
       "       613.51105, 607.66113, 544.3954 , 634.7099 , 628.0173 , 579.9665 ,\n",
       "       593.974  , 565.4669 , 668.11383, 649.2118 , 520.3489 , 621.378  ,\n",
       "       653.667  , 653.2987 , 750.0324 , 637.18115, 581.1272 , 649.8013 ,\n",
       "       633.68964, 592.30774, 649.3883 , 662.82825, 536.3824 , 628.0173 ,\n",
       "       692.8355 , 657.5465 , 677.99207, 645.7164 , 664.12616, 673.88574,\n",
       "       767.6871 , 500.9518 , 666.89496, 582.0124 , 718.4123 , 656.9513 ,\n",
       "       657.17096, 801.33124, 723.5552 , 629.78406, 640.93286, 605.1817 ,\n",
       "       611.8599 , 672.483  , 740.2399 , 679.3272 , 656.861  , 635.9086 ,\n",
       "       556.79803, 600.3509 , 613.49365, 698.6014 , 711.2286 , 765.9855 ,\n",
       "       645.8149 , 668.6915 , 647.77893, 604.7739 , 549.88916, 752.33014,\n",
       "       629.3779 , 542.4945 , 657.5916 , 645.60583, 736.0974 , 607.2405 ,\n",
       "       663.59863, 721.1017 , 631.2519 , 624.7433 , 672.88153, 770.4757 ,\n",
       "       625.1745 , 640.33527, 585.95087, 597.7799 , 567.58057, 623.44226,\n",
       "       624.30475, 585.2198 , 636.1849 , 610.0524 , 555.33563, 644.5611 ,\n",
       "       713.282  , 558.38007, 605.13654, 702.77045, 650.93   , 681.9555 ,\n",
       "       572.39655, 632.79126, 658.7426 , 694.3633 , 706.0055 , 660.38696,\n",
       "       587.50793, 727.77386, 687.2047 , 756.247  , 634.45776, 631.9782 ,\n",
       "       791.53046, 690.99457, 655.1848 , 638.1678 , 738.78033, 564.0234 ,\n",
       "       676.10504, 720.23193, 669.7147 , 590.7428 , 723.8789 , 723.9857 ,\n",
       "       641.5597 , 729.1447 , 522.0338 , 693.9933 , 708.52655, 606.98175,\n",
       "       742.2673 , 685.9469 , 755.28644, 672.40985, 624.1779 , 681.74146,\n",
       "       680.53894, 661.6928 , 697.1696 , 640.23505, 676.7389 , 635.4898 ,\n",
       "       682.5104 , 627.92017, 655.8983 , 631.0406 , 741.95465, 553.9395 ,\n",
       "       715.0173 , 645.7835 , 620.2333 , 756.7074 , 665.9277 , 655.6815 ,\n",
       "       659.10925, 643.3343 , 529.768  , 675.6903 , 712.9602 , 638.1694 ,\n",
       "       703.7072 , 635.88904, 775.56976, 734.4003 , 713.4979 , 528.9509 ,\n",
       "       646.866  , 755.70337, 744.95605, 678.10175, 633.29816, 552.5141 ,\n",
       "       680.7813 , 556.79803, 470.7775 , 748.1723 , 645.97754, 735.34375,\n",
       "       540.1069 , 692.5766 , 690.14355, 704.6552 , 623.8074 , 600.79114,\n",
       "       680.3611 , 713.0303 , 592.30774, 707.85205, 556.6494 , 659.9636 ,\n",
       "       668.2893 , 645.60583, 720.90814, 624.9132 , 722.4698 , 576.1783 ,\n",
       "       642.27594, 783.0897 , 684.97375, 717.8066 , 544.3412 , 662.7282 ,\n",
       "       696.0786 , 665.99976, 699.4322 , 613.6575 , 564.56964, 685.2825 ,\n",
       "       638.9086 , 611.8599 , 599.3863 , 681.5762 , 654.85895, 688.30133,\n",
       "       599.6708 , 738.45105, 791.20386, 779.3768 , 712.1986 , 697.2933 ,\n",
       "       696.92206, 603.9304 , 742.06775, 723.21484], dtype=float32)"
      ]
     },
     "execution_count": 108,
     "metadata": {},
     "output_type": "execute_result"
    }
   ],
   "source": [
    "submission_predictions"
   ]
  },
  {
   "cell_type": "code",
   "execution_count": 105,
   "metadata": {
    "id": "k9Ai5RyhECBr"
   },
   "outputs": [],
   "source": [
    "submission_df = pd.read_csv(\"data/submission/submission.csv\")"
   ]
  },
  {
   "cell_type": "code",
   "execution_count": 111,
   "metadata": {
    "colab": {
     "base_uri": "https://localhost:8080/",
     "height": 206
    },
    "id": "O64asNp_EcsJ",
    "outputId": "669a55f2-72d5-4443-e3ef-41ee800d5133"
   },
   "outputs": [
    {
     "data": {
      "text/html": [
       "<div>\n",
       "<style scoped>\n",
       "    .dataframe tbody tr th:only-of-type {\n",
       "        vertical-align: middle;\n",
       "    }\n",
       "\n",
       "    .dataframe tbody tr th {\n",
       "        vertical-align: top;\n",
       "    }\n",
       "\n",
       "    .dataframe thead th {\n",
       "        text-align: right;\n",
       "    }\n",
       "</style>\n",
       "<table border=\"1\" class=\"dataframe\">\n",
       "  <thead>\n",
       "    <tr style=\"text-align: right;\">\n",
       "      <th></th>\n",
       "      <th>id</th>\n",
       "      <th>prediction</th>\n",
       "    </tr>\n",
       "  </thead>\n",
       "  <tbody>\n",
       "    <tr>\n",
       "      <th>0</th>\n",
       "      <td>5829da64e4b051c58fcef11a</td>\n",
       "      <td>NaN</td>\n",
       "    </tr>\n",
       "    <tr>\n",
       "      <th>1</th>\n",
       "      <td>587b9b50e4b08f2486cd58c1</td>\n",
       "      <td>NaN</td>\n",
       "    </tr>\n",
       "    <tr>\n",
       "      <th>2</th>\n",
       "      <td>5789ce5de4b0022659314a39</td>\n",
       "      <td>NaN</td>\n",
       "    </tr>\n",
       "    <tr>\n",
       "      <th>3</th>\n",
       "      <td>58bf17bae4b0bec08aa033f9</td>\n",
       "      <td>NaN</td>\n",
       "    </tr>\n",
       "    <tr>\n",
       "      <th>4</th>\n",
       "      <td>58418a68e4b0bb9d6a0d716b</td>\n",
       "      <td>NaN</td>\n",
       "    </tr>\n",
       "  </tbody>\n",
       "</table>\n",
       "</div>"
      ],
      "text/plain": [
       "                         id  prediction\n",
       "0  5829da64e4b051c58fcef11a         NaN\n",
       "1  587b9b50e4b08f2486cd58c1         NaN\n",
       "2  5789ce5de4b0022659314a39         NaN\n",
       "3  58bf17bae4b0bec08aa033f9         NaN\n",
       "4  58418a68e4b0bb9d6a0d716b         NaN"
      ]
     },
     "execution_count": 111,
     "metadata": {},
     "output_type": "execute_result"
    }
   ],
   "source": [
    "submission_df.head()"
   ]
  },
  {
   "cell_type": "code",
   "execution_count": 115,
   "metadata": {
    "id": "kgFfNPd3ENhH"
   },
   "outputs": [],
   "source": [
    "# Create a new DataFrame for predictions\n",
    "\n",
    "submission_df['prediction'] = submission_predictions"
   ]
  },
  {
   "cell_type": "code",
   "execution_count": 116,
   "metadata": {
    "colab": {
     "base_uri": "https://localhost:8080/",
     "height": 206
    },
    "id": "p_WgdZeJEucu",
    "outputId": "d8b512d4-eab6-40a3-8198-19cd1690ff16"
   },
   "outputs": [
    {
     "data": {
      "text/html": [
       "<div>\n",
       "<style scoped>\n",
       "    .dataframe tbody tr th:only-of-type {\n",
       "        vertical-align: middle;\n",
       "    }\n",
       "\n",
       "    .dataframe tbody tr th {\n",
       "        vertical-align: top;\n",
       "    }\n",
       "\n",
       "    .dataframe thead th {\n",
       "        text-align: right;\n",
       "    }\n",
       "</style>\n",
       "<table border=\"1\" class=\"dataframe\">\n",
       "  <thead>\n",
       "    <tr style=\"text-align: right;\">\n",
       "      <th></th>\n",
       "      <th>id</th>\n",
       "      <th>prediction</th>\n",
       "    </tr>\n",
       "  </thead>\n",
       "  <tbody>\n",
       "    <tr>\n",
       "      <th>0</th>\n",
       "      <td>5829da64e4b051c58fcef11a</td>\n",
       "      <td>660.125427</td>\n",
       "    </tr>\n",
       "    <tr>\n",
       "      <th>1</th>\n",
       "      <td>587b9b50e4b08f2486cd58c1</td>\n",
       "      <td>801.317627</td>\n",
       "    </tr>\n",
       "    <tr>\n",
       "      <th>2</th>\n",
       "      <td>5789ce5de4b0022659314a39</td>\n",
       "      <td>740.874878</td>\n",
       "    </tr>\n",
       "    <tr>\n",
       "      <th>3</th>\n",
       "      <td>58bf17bae4b0bec08aa033f9</td>\n",
       "      <td>744.270142</td>\n",
       "    </tr>\n",
       "    <tr>\n",
       "      <th>4</th>\n",
       "      <td>58418a68e4b0bb9d6a0d716b</td>\n",
       "      <td>764.041016</td>\n",
       "    </tr>\n",
       "  </tbody>\n",
       "</table>\n",
       "</div>"
      ],
      "text/plain": [
       "                         id  prediction\n",
       "0  5829da64e4b051c58fcef11a  660.125427\n",
       "1  587b9b50e4b08f2486cd58c1  801.317627\n",
       "2  5789ce5de4b0022659314a39  740.874878\n",
       "3  58bf17bae4b0bec08aa033f9  744.270142\n",
       "4  58418a68e4b0bb9d6a0d716b  764.041016"
      ]
     },
     "execution_count": 116,
     "metadata": {},
     "output_type": "execute_result"
    }
   ],
   "source": [
    "submission_df.head()"
   ]
  },
  {
   "cell_type": "code",
   "execution_count": 118,
   "metadata": {
    "id": "4hMVuZOqE3Uc"
   },
   "outputs": [],
   "source": [
    "submission_df.to_csv('data/submission/submission_final.csv', index=False)"
   ]
  },
  {
   "cell_type": "code",
   "execution_count": 119,
   "metadata": {
    "id": "cL4rqzOqF2pM"
   },
   "outputs": [],
   "source": [
    "final = pd.read_csv(\"data/submission/submission_final.csv\")"
   ]
  },
  {
   "cell_type": "code",
   "execution_count": 120,
   "metadata": {
    "colab": {
     "base_uri": "https://localhost:8080/"
    },
    "id": "iQ1LDyCbF7mu",
    "outputId": "e87e86d0-49ba-4ef7-83c7-81c7f829d804"
   },
   "outputs": [
    {
     "data": {
      "text/plain": [
       "(1000, 2)"
      ]
     },
     "execution_count": 120,
     "metadata": {},
     "output_type": "execute_result"
    }
   ],
   "source": [
    "final.shape"
   ]
  }
 ],
 "metadata": {
  "colab": {
   "provenance": []
  },
  "kernelspec": {
   "display_name": "Python 3",
   "language": "python",
   "name": "python3"
  },
  "language_info": {
   "codemirror_mode": {
    "name": "ipython",
    "version": 3
   },
   "file_extension": ".py",
   "mimetype": "text/x-python",
   "name": "python",
   "nbconvert_exporter": "python",
   "pygments_lexer": "ipython3",
   "version": "3.8.5"
  }
 },
 "nbformat": 4,
 "nbformat_minor": 1
}
